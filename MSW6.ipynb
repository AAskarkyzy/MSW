{
  "nbformat": 4,
  "nbformat_minor": 0,
  "metadata": {
    "colab": {
      "provenance": [],
      "authorship_tag": "ABX9TyMUKKtIeYpgmQT84OjGsJVa",
      "include_colab_link": true
    },
    "kernelspec": {
      "name": "python3",
      "display_name": "Python 3"
    },
    "language_info": {
      "name": "python"
    }
  },
  "cells": [
    {
      "cell_type": "markdown",
      "metadata": {
        "id": "view-in-github",
        "colab_type": "text"
      },
      "source": [
        "<a href=\"https://colab.research.google.com/github/AAskarkyzy/MSW/blob/main/MSW6.ipynb\" target=\"_parent\"><img src=\"https://colab.research.google.com/assets/colab-badge.svg\" alt=\"Open In Colab\"/></a>"
      ]
    },
    {
      "cell_type": "markdown",
      "source": [
        "# 6. Generování náhodných čísel a testování generátorů"
      ],
      "metadata": {
        "id": "nHFIqf3sZNwl"
      }
    },
    {
      "cell_type": "code",
      "source": [
        "import random\n",
        "\n",
        "# Funkce pro ziskani uzivatelskeho vstupu a generovani seminka\n",
        "def generate_seed_from_user_input():\n",
        "    # ziskani users vstupu\n",
        "    user_input = input(\"Zadejte nějaký náhodný vstup: \")\n",
        "    try:\n",
        "        # pokusi se prevest vstup na cele cislo\n",
        "        seed = int(user_input)\n",
        "    except ValueError:\n",
        "        # v jinem pripade pouzije hash users vstupu jako seminko\n",
        "        seed = hash(user_input)\n",
        "    return seed\n",
        "\n",
        "# Generovani seminka pomoci uzivatelskeho vstupu\n",
        "seed = generate_seed_from_user_input()\n",
        "print(\"Vybrané semínko:\", seed)\n",
        "\n",
        "# Nastaveni seminka pro generator pseudonahodnych cisel\n",
        "random.seed(seed)\n",
        "\n",
        "# Generovani pseudonahodnych cisel\n",
        "random_numbers = [random.random() for _ in range(5)]\n",
        "print(\"Pseudonáhodná čísla:\", random_numbers)\n"
      ],
      "metadata": {
        "colab": {
          "base_uri": "https://localhost:8080/"
        },
        "id": "pGYss_7EfD_J",
        "outputId": "392e3855-3793-4cd4-a964-c4611718db14"
      },
      "execution_count": 12,
      "outputs": [
        {
          "output_type": "stream",
          "name": "stdout",
          "text": [
            "Zadejte nějaký náhodný vstup: у\n",
            "Vybrané semínko: -6402790531552516174\n",
            "Pseudonáhodná čísla: [0.45824530553939125, 0.32081664150687483, 0.7093750674312255, 0.09388222208404218, 0.7008011758239887]\n"
          ]
        }
      ]
    }
  ]
}