{
  "nbformat": 4,
  "nbformat_minor": 0,
  "metadata": {
    "colab": {
      "provenance": [],
      "authorship_tag": "ABX9TyN01ui4tzQgecec/xQPhLdS",
      "include_colab_link": true
    },
    "kernelspec": {
      "name": "python3",
      "display_name": "Python 3"
    },
    "language_info": {
      "name": "python"
    }
  },
  "cells": [
    {
      "cell_type": "markdown",
      "metadata": {
        "id": "view-in-github",
        "colab_type": "text"
      },
      "source": [
        "<a href=\"https://colab.research.google.com/github/AAskarkyzy/MSW/blob/main/MSW8.ipynb\" target=\"_parent\"><img src=\"https://colab.research.google.com/assets/colab-badge.svg\" alt=\"Open In Colab\"/></a>"
      ]
    },
    {
      "cell_type": "markdown",
      "source": [
        "# 8. Derivace funkce jedné proměnné"
      ],
      "metadata": {
        "id": "QnotdA_9pb-D"
      }
    },
    {
      "cell_type": "code",
      "execution_count": 7,
      "metadata": {
        "colab": {
          "base_uri": "https://localhost:8080/"
        },
        "id": "wElpoHlLpbkk",
        "outputId": "d38f30db-4b8d-472c-89e3-c949ed607c0b"
      },
      "outputs": [
        {
          "output_type": "stream",
          "name": "stdout",
          "text": [
            "Polynomiální funkce: f(x) = 2*x^3 + -1*x^2 + 3*x^1 + 0.5*x^0\n",
            "Analytická derivace: 23\n",
            "Numerická derivace (adaptabilní krok): 22.99998413946014\n",
            "Numerická derivace (statický krok): 23.000011005080978\n"
          ]
        }
      ],
      "source": [
        "import numpy as np\n",
        "\n",
        "# Definice polynomialni funkce\n",
        "def polynomial_function(x, coefficients):\n",
        "    n = len(coefficients)\n",
        "    return sum(coefficients[i] * x**(n-i-1) for i in range(n))\n",
        "\n",
        "# Numericka derivace s adaptabilnim krokem\n",
        "def adaptive_numerical_derivative(f, x, coefficients, h=1e-6):\n",
        "    h_max = 0.1  # Maximalni krok\n",
        "    h_min = 1e-10  # Minimalni krok\n",
        "    tol = 1e-6  # Tolerance pro adaptaci kroku\n",
        "    slope_old = 0  # Puvodni sklon\n",
        "\n",
        "    # Vypocet prvniho odhadu derivace\n",
        "    slope = (f(x + h, coefficients) - f(x, coefficients)) / h\n",
        "    if slope == 0:\n",
        "        return 0\n",
        "    h = min(h_max, h_min, np.sqrt(2 * tol / abs(slope)))\n",
        "\n",
        "    # Aktualizace kroku a vypocet derivace s novym krokem\n",
        "    while abs(slope - slope_old) > tol:\n",
        "        slope_old = slope\n",
        "        h = min(h_max, max(h_min, h * np.sqrt(tol / abs(slope))))\n",
        "        slope = (f(x + h, coefficients) - f(x, coefficients)) / h\n",
        "\n",
        "    return slope\n",
        "\n",
        "# Staticky krok\n",
        "def static_numerical_derivative(f, x, coefficients, h=1e-6):\n",
        "    return (f(x + h, coefficients) - f(x, coefficients)) / h\n",
        "\n",
        "# Koeficienty polynomu\n",
        "coefficients = [2, -1, 3, 0.5]\n",
        "\n",
        "# Bod, ve kterém pocitame derivaci\n",
        "x = 2\n",
        "\n",
        "# Vypocet analyticke derivace\n",
        "analytical_derivative = 6*x**2 - 2*x + 3\n",
        "\n",
        "# Vypocet numericke derivace s adaptabilnim krokem\n",
        "adaptive_derivative = adaptive_numerical_derivative(polynomial_function, x, coefficients)\n",
        "\n",
        "# Vypocet numericke derivace se statickym krokem\n",
        "static_derivative = static_numerical_derivative(polynomial_function, x, coefficients)\n",
        "\n",
        "# Vypis vysledku\n",
        "print(\"Polynomiální funkce: f(x) =\", \" + \".join([f\"{coefficients[i]}*x^{len(coefficients)-i-1}\" for i in range(len(coefficients))]))\n",
        "print(\"Analytická derivace:\", analytical_derivative)\n",
        "print(\"Numerická derivace (adaptabilní krok):\", adaptive_derivative)\n",
        "print(\"Numerická derivace (statický krok):\", static_derivative)\n"
      ]
    }
  ]
}