{
  "nbformat": 4,
  "nbformat_minor": 0,
  "metadata": {
    "colab": {
      "provenance": [],
      "authorship_tag": "ABX9TyPG/u801H7PdSIebHFPo2cD",
      "include_colab_link": true
    },
    "kernelspec": {
      "name": "python3",
      "display_name": "Python 3"
    },
    "language_info": {
      "name": "python"
    }
  },
  "cells": [
    {
      "cell_type": "markdown",
      "metadata": {
        "id": "view-in-github",
        "colab_type": "text"
      },
      "source": [
        "<a href=\"https://colab.research.google.com/github/AAskarkyzy/MSW/blob/main/MSW5.ipynb\" target=\"_parent\"><img src=\"https://colab.research.google.com/assets/colab-badge.svg\" alt=\"Open In Colab\"/></a>"
      ]
    },
    {
      "cell_type": "markdown",
      "source": [
        "# 5. Hledání kořenů rovnice"
      ],
      "metadata": {
        "id": "nMacnbNxiQ5I"
      }
    },
    {
      "cell_type": "code",
      "execution_count": null,
      "metadata": {
        "colab": {
          "base_uri": "https://localhost:8080/"
        },
        "id": "esYwYDkMiQDw",
        "outputId": "0fe7dcbf-cbe4-4333-bfa7-42abe0a971e3"
      },
      "outputs": [
        {
          "output_type": "stream",
          "name": "stdout",
          "text": [
            "Pro funkci polynomial_function:\n",
            "Uzavřená metoda (Metoda půlení intervalu):\n",
            "Kořen: 1.754878044128418, čas: 5.269050598144531e-05 sekundy\n",
            "Otevřená metoda (Newtonova metoda):\n",
            "Derivace je nulová, nelze použít Newtonovu metodu.\n",
            "Kořen: None, čas: None sekundy\n",
            "\n",
            "Pro funkci exponential_function:\n",
            "Uzavřená metoda (Metoda půlení intervalu):\n",
            "Kořen: 0.6931467056274414, čas: 0.00020003318786621094 sekundy\n",
            "Otevřená metoda (Newtonova metoda):\n",
            "Kořen: 0.6931475810597714, čas: 7.915496826171875e-05 sekundy\n",
            "\n",
            "Pro funkci trigonometric_function:\n",
            "Uzavřená metoda (Metoda půlení intervalu):\n",
            "Kořen: 1.9999990463256836, čas: 0.00020837783813476562 sekundy\n",
            "Otevřená metoda (Newtonova metoda):\n",
            "Kořen: 2.923566201412306e-13, čas: 5.364418029785156e-05 sekundy\n",
            "\n"
          ]
        }
      ],
      "source": [
        "import numpy as np\n",
        "import time\n",
        "\n",
        "# Definice funkci\n",
        "def polynomial_function(x):\n",
        "    return x**3 - 2*x**2 + x - 1\n",
        "\n",
        "def exponential_function(x):\n",
        "    return np.exp(x) - 2\n",
        "\n",
        "def trigonometric_function(x):\n",
        "    return np.sin(x)\n",
        "\n",
        "# Uzavrena metoda (Metoda puleni intervalu)\n",
        "# func - hledana funkce; a,b - hranice intervalu;\n",
        "# tol - tolerance pro presnost nalezeni korene; max_iter - max pocet iteraci\n",
        "def bisection_method(func, a, b, tol=1e-6, max_iter=1000):\n",
        "    start_time = time.time()\n",
        "    iter_count = 0\n",
        "    while (b - a) / 2 > tol and iter_count < max_iter:\n",
        "        # vypocita stredni bod intervalu\n",
        "        midpoint = (a + b) / 2\n",
        "        if func(midpoint) == 0:\n",
        "            break\n",
        "        elif func(a) * func(midpoint) < 0:\n",
        "            # koren je v leve polovine intervalu\n",
        "            b = midpoint\n",
        "        else:\n",
        "            # v prave polovine\n",
        "            a = midpoint\n",
        "        iter_count += 1\n",
        "    # Po skonceni smycky se vypocte nalezeny koren jako stredni bod intervalu\n",
        "    root = (a + b) / 2\n",
        "    end_time = time.time()\n",
        "    execution_time = end_time - start_time\n",
        "    return root, execution_time\n",
        "\n",
        "# Otevřená metoda (Newtonova metoda)\n",
        "# func - hledana funkce; derivative - derivace funkce func;\n",
        "# X0 - pocatecni odhad korene; tol - tolerance pro presnost nalezeni korene\n",
        "def newton_method(func, derivative, x0, tol=1e-6, max_iter=1000):\n",
        "    start_time = time.time()\n",
        "    iter_count = 0\n",
        "    # uchovava aktualni odhad korene\n",
        "    x = x0\n",
        "    while iter_count < max_iter:\n",
        "        if derivative(x) == 0:\n",
        "            print(\"Derivace je nulová, nelze použít Newtonovu metodu.\")\n",
        "            return None, None\n",
        "        # vypocita novy odhad korene podle vzorce Newtonovy metody\n",
        "        x_new = x - func(x) / derivative(x)\n",
        "        if abs(x_new - x) < tol:\n",
        "            break     #byl nalezen dostatecne presny odhad korene\n",
        "        # aktualizuje odhad korene x\n",
        "        x = x_new\n",
        "        iter_count += 1\n",
        "    else:  # jestli cyklus skonci kvuli dosazeni max poctu iteraci\n",
        "        print(\"Newtonova metoda nedosáhla konvergence.\")\n",
        "        return None, None\n",
        "    root = x\n",
        "    end_time = time.time()\n",
        "    execution_time = end_time - start_time\n",
        "    return root, execution_time\n",
        "\n",
        "# Definice derivací funkcí\n",
        "def polynomial_derivative(x):\n",
        "    return 3*x**2 - 4*x + 1\n",
        "\n",
        "def exponential_derivative(x):\n",
        "    return np.exp(x)\n",
        "\n",
        "def trigonometric_derivative(x):\n",
        "    return np.cos(x)\n",
        "\n",
        "# Hledani korene pro kazdou funkci s obema metodami\n",
        "# interval ve kterem hledame koren\n",
        "a, b = 0, 2\n",
        "tolerance = 1e-6\n",
        "max_iterations = 1000\n",
        "\n",
        "# seznam funkci a jejich derivaci\n",
        "functions = [(polynomial_function, polynomial_derivative),\n",
        "             (exponential_function, exponential_derivative),\n",
        "             (trigonometric_function, trigonometric_derivative)]\n",
        "\n",
        "# pro kazdou funkci pouzivame dve metody\n",
        "for func, derivative in functions:\n",
        "    print(f\"Pro funkci {func.__name__}:\")\n",
        "    print(\"Uzavřená metoda (Metoda půlení intervalu):\")\n",
        "    root, exec_time = bisection_method(func, a, b, tolerance, max_iterations)\n",
        "    print(f\"Kořen: {root}, čas: {exec_time} sekundy\")\n",
        "\n",
        "    print(\"Otevřená metoda (Newtonova metoda):\")\n",
        "    root, exec_time = newton_method(func, derivative, (a + b) / 2, tolerance, max_iterations)\n",
        "    print(f\"Kořen: {root}, čas: {exec_time} sekundy\")\n",
        "    print()\n"
      ]
    }
  ]
}