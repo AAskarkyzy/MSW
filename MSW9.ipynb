{
  "nbformat": 4,
  "nbformat_minor": 0,
  "metadata": {
    "colab": {
      "provenance": [],
      "authorship_tag": "ABX9TyOPVsf8dum0aUx7UyPhI97F",
      "include_colab_link": true
    },
    "kernelspec": {
      "name": "python3",
      "display_name": "Python 3"
    },
    "language_info": {
      "name": "python"
    }
  },
  "cells": [
    {
      "cell_type": "markdown",
      "metadata": {
        "id": "view-in-github",
        "colab_type": "text"
      },
      "source": [
        "<a href=\"https://colab.research.google.com/github/AAskarkyzy/MSW/blob/main/MSW9.ipynb\" target=\"_parent\"><img src=\"https://colab.research.google.com/assets/colab-badge.svg\" alt=\"Open In Colab\"/></a>"
      ]
    },
    {
      "cell_type": "markdown",
      "source": [
        "# 9. Integrace funkce jedné proměnné"
      ],
      "metadata": {
        "id": "djhBMT3u4Tq0"
      }
    },
    {
      "cell_type": "code",
      "source": [
        "import numpy as np\n",
        "from scipy.integrate import quad\n",
        "\n",
        "# Zadane funkce\n",
        "def polynomial_function(x):\n",
        "    return x**2 - 3*x + 2\n",
        "\n",
        "def harmonic_function(x):\n",
        "    return np.sin(x)\n",
        "\n",
        "def logarithmic_function(x):\n",
        "    return np.log(x + 1)\n",
        "\n",
        "\n",
        "# Intervaly integrace\n",
        "a = 0\n",
        "b = 5\n",
        "\n",
        "# Pocet intervalu rozdeleni pro Riemannovu sumu\n",
        "n = 1000\n",
        "\n",
        "\n",
        "# Vypocet urcitych integralu pomoci Riemannovu sumy\n",
        "def riemann_sum(func, a, b, n, method='left'):\n",
        "    # vypocitava sirku jednoho podintervalu\n",
        "    dx = (b - a) / n\n",
        "    total_sum = 0\n",
        "\n",
        "    # prochazi vsechny podintervaly\n",
        "    for i in range(n):\n",
        "        # vypocitava hodnotu x na levem konci\n",
        "        if method == 'left':\n",
        "            x = a + i * dx\n",
        "        elif method == 'right':\n",
        "            x = a + (i + 1) * dx\n",
        "        elif method == 'middle':\n",
        "            x = a + (i + 0.5) * dx\n",
        "        else:\n",
        "            raise ValueError(\"Nesprávná metoda. Použijte 'left', 'right' nebo 'middle'.\")\n",
        "\n",
        "        # pricte plochu pod krivkou na danem podintervalu k celkove sume\n",
        "        total_sum += func(x) * dx\n",
        "\n",
        "    return total_sum\n",
        "\n",
        "\n",
        "# Riemannovy sumy\n",
        "integral_polynomial_riemann = riemann_sum(polynomial_function, a, b, n)\n",
        "integral_harmonic_riemann = riemann_sum(harmonic_function, a, b, n)\n",
        "integral_logarithmic_riemann = riemann_sum(logarithmic_function, a, b, n)\n",
        "\n",
        "# vypocet urcitych integralu pomoci analytickeho reseni\n",
        "integral_polynomial_quad, _ = quad(polynomial_function, a, b)\n",
        "integral_harmonic_quad, _ = quad(harmonic_function, a, b)\n",
        "integral_logarithmic_quad, _ = quad(logarithmic_function, a, b)\n",
        "\n",
        "# vystup vysledku\n",
        "print(\"Polynomial funkce, Riemannova suma:\", integral_polynomial_riemann)\n",
        "print(\"Polynomial funkce, Analytické řešení:\", integral_polynomial_quad)\n",
        "print(\"Rozdíl:\", abs(integral_polynomial_riemann - integral_polynomial_quad))\n",
        "print()\n",
        "print(\"Harmonická funkce, Riemannova suma:\", integral_harmonic_riemann)\n",
        "print(\"Harmonická funkce, Analytické řešení:\", integral_harmonic_quad)\n",
        "print(\"Rozdíl:\", abs(integral_harmonic_riemann - integral_harmonic_quad))\n",
        "print()\n",
        "print(\"Logaritmus, Riemannova suma:\", integral_logarithmic_riemann)\n",
        "print(\"Logaritmus, Analytické řešení:\", integral_logarithmic_quad)\n",
        "print(\"Rozdíl:\", abs(integral_logarithmic_riemann - integral_logarithmic_quad))"
      ],
      "metadata": {
        "colab": {
          "base_uri": "https://localhost:8080/"
        },
        "id": "YNryaN7Qe_jm",
        "outputId": "42137dc1-c909-4f65-8724-410c2d5011a3"
      },
      "execution_count": 8,
      "outputs": [
        {
          "output_type": "stream",
          "name": "stdout",
          "text": [
            "Polynomial funkce, Riemannova suma: 14.141687500000002\n",
            "Polynomial funkce, Analytické řešení: 14.166666666666668\n",
            "Rozdíl: 0.02497916666666633\n",
            "\n",
            "Harmonická funkce, Riemannova suma: 0.718733632852359\n",
            "Harmonická funkce, Analytické řešení: 0.7163378145367737\n",
            "Rozdíl: 0.0023958183155853296\n",
            "\n",
            "Logaritmus, Riemannova suma: 5.746075680585878\n",
            "Logaritmus, Analytické řešení: 5.750556815368329\n",
            "Rozdíl: 0.004481134782451157\n"
          ]
        }
      ]
    }
  ]
}