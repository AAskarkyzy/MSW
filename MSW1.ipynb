{
  "nbformat": 4,
  "nbformat_minor": 0,
  "metadata": {
    "colab": {
      "provenance": [],
      "authorship_tag": "ABX9TyOOqbvcubRhCnlZEgbWvwfN",
      "include_colab_link": true
    },
    "kernelspec": {
      "name": "python3",
      "display_name": "Python 3"
    },
    "language_info": {
      "name": "python"
    }
  },
  "cells": [
    {
      "cell_type": "markdown",
      "metadata": {
        "id": "view-in-github",
        "colab_type": "text"
      },
      "source": [
        "<a href=\"https://colab.research.google.com/github/AAskarkyzy/MSW/blob/main/MSW1.ipynb\" target=\"_parent\"><img src=\"https://colab.research.google.com/assets/colab-badge.svg\" alt=\"Open In Colab\"/></a>"
      ]
    },
    {
      "cell_type": "markdown",
      "source": [
        "# 1. Knihovny a moduly pro matematické výpočty"
      ],
      "metadata": {
        "id": "C-pj1OxNyRUu"
      }
    },
    {
      "cell_type": "code",
      "execution_count": 1,
      "metadata": {
        "colab": {
          "base_uri": "https://localhost:8080/"
        },
        "id": "sN5hb1T9yPC_",
        "outputId": "1fc1a23a-a896-4f1e-e651-5d4acd999f2e"
      },
      "outputs": [
        {
          "output_type": "stream",
          "name": "stdout",
          "text": [
            "Matrix A:\n",
            "[[0.18676434 0.54027867 0.47383429 0.95531974 0.76688642 0.12225963\n",
            "  0.31745423 0.32217997 0.64896442 0.36412547]\n",
            " [0.53534668 0.74044819 0.96483274 0.99107022 0.87756741 0.43252638\n",
            "  0.87228619 0.32587568 0.40973211 0.44576545]\n",
            " [0.17659988 0.65189705 0.8755928  0.46663783 0.1249949  0.91336535\n",
            "  0.89061187 0.75681035 0.71593023 0.6043201 ]\n",
            " [0.59519858 0.88229357 0.98621315 0.85500417 0.27123765 0.13227672\n",
            "  0.67847512 0.82124059 0.80606523 0.81245466]\n",
            " [0.75812384 0.60764114 0.07933421 0.07352841 0.88676513 0.6826809\n",
            "  0.04105037 0.95989514 0.09441718 0.36449094]\n",
            " [0.65110248 0.6629308  0.1783684  0.72607708 0.4834816  0.60448025\n",
            "  0.59298796 0.23775042 0.36487702 0.34136612]\n",
            " [0.65454494 0.08878703 0.53104685 0.57086008 0.69609741 0.40917034\n",
            "  0.41693465 0.89468082 0.21780532 0.13101157]\n",
            " [0.50244876 0.6369986  0.4502877  0.26198878 0.53914437 0.85175045\n",
            "  0.35667111 0.55768985 0.62366435 0.39833621]\n",
            " [0.71500906 0.94384539 0.4041016  0.80458247 0.73736527 0.2615781\n",
            "  0.09652319 0.12610111 0.40002279 0.86170932]\n",
            " [0.12477231 0.77531164 0.96095977 0.30842395 0.50136952 0.86354233\n",
            "  0.32344474 0.42008621 0.45027457 0.58345535]]\n",
            "\n",
            "Matrix B:\n",
            "[[0.45235964 0.80329029 0.7361199  0.55778481 0.07264807 0.46629062\n",
            "  0.15874837 0.17243426 0.36239941 0.49417712]\n",
            " [0.14039087 0.50406828 0.66297581 0.97897848 0.25461218 0.71052883\n",
            "  0.00518718 0.98178241 0.55266552 0.67330917]\n",
            " [0.06310609 0.14618144 0.9806924  0.44771671 0.90977095 0.92813007\n",
            "  0.23413811 0.94598789 0.08507559 0.95153139]\n",
            " [0.9036797  0.51252625 0.73672123 0.73683282 0.57425741 0.62795087\n",
            "  0.92948791 0.04561042 0.64470793 0.80390886]\n",
            " [0.11070836 0.48639626 0.25885625 0.20661165 0.42148503 0.73821364\n",
            "  0.48467107 0.3484266  0.64409836 0.24853355]\n",
            " [0.66874908 0.88319093 0.14442669 0.9899295  0.58889976 0.23061473\n",
            "  0.62010767 0.90106288 0.11015583 0.36718356]\n",
            " [0.86130116 0.77941506 0.82928479 0.74536676 0.26686305 0.42752655\n",
            "  0.75999104 0.07924198 0.00237338 0.6526548 ]\n",
            " [0.74632564 0.67124201 0.08106257 0.59246579 0.43420198 0.99786818\n",
            "  0.71487552 0.35610439 0.34820017 0.84973696]\n",
            " [0.08659403 0.43496773 0.42337192 0.00690453 0.32695979 0.54261922\n",
            "  0.83341955 0.11510022 0.61307402 0.06642004]\n",
            " [0.99796559 0.54574516 0.15909749 0.02704934 0.39005818 0.99120969\n",
            "  0.92263374 0.5685373  0.56508599 0.0639041 ]]\n",
            "Time taken for pure Python matrix multiplication: 0.001733541488647461\n",
            "Time taken for NumPy matrix multiplication: 0.0071697235107421875\n"
          ]
        }
      ],
      "source": [
        "# 1. Prvni uloha na nasobeni matrice\n",
        "import numpy as np\n",
        "import time\n",
        "\n",
        "# Proste Python matrix multiplication\n",
        "def python_matrix(a, b):\n",
        "    result = [[0 for _ in range(len(b[0]))] for _ in range(len(a))]\n",
        "    for i in range(len(a)):\n",
        "        for j in range(len(b[0])):\n",
        "            for k in range(len(b)):\n",
        "                result[i][j] += a[i][k] * b[k][j]\n",
        "    return result\n",
        "\n",
        "# NumPy matrix multiplication\n",
        "def numpy_matrix(a, b):\n",
        "    return np.dot(a, b)\n",
        "\n",
        "# matrice\n",
        "size = 10\n",
        "a = np.random.rand(size, size)\n",
        "b = np.random.rand(size, size)\n",
        "\n",
        "print(\"Matrix A:\")\n",
        "print(a)\n",
        "print(\"\\nMatrix B:\")\n",
        "print(b)\n",
        "\n",
        "# cas proste Python matrix multiplication\n",
        "start = time.time()\n",
        "pure_python_result = python_matrix(a, b)\n",
        "end = time.time()\n",
        "print(\"Time taken for pure Python matrix multiplication:\", end - start)\n",
        "\n",
        "# cas NumPy matrix multiplication\n",
        "start = time.time()\n",
        "numpy_result = numpy_matrix(a, b)\n",
        "end = time.time()\n",
        "print(\"Time taken for NumPy matrix multiplication:\", end - start)"
      ]
    },
    {
      "cell_type": "markdown",
      "source": [
        "**2. reseni kvadratickou rovnici pomoci SymPy**"
      ],
      "metadata": {
        "id": "fVuFFJFzytZR"
      }
    },
    {
      "cell_type": "code",
      "source": [
        "# 2. reseni kvadratickou rovnici pomoci SymPy\n",
        "import sympy as sp\n",
        "import time\n",
        "\n",
        "# Definice symbolických proměnných\n",
        "x = sp.Symbol('x')\n",
        "\n",
        "start = time.time()\n",
        "solution = sp.solve([x**2 - 5*x + 6], x)\n",
        "end = time.time()\n",
        "print(\"Řešení rovnice:\", solution)\n",
        "print(\"Čas potřebný k vyřešení rovnice s SymPy:\", end - start)\n",
        "\n",
        "\n",
        "# proste python\n",
        "def solve_quadratic(a, b, c):\n",
        "    discriminant = b**2 - 4*a*c\n",
        "\n",
        "    if discriminant > 0:\n",
        "        root1 = (-b + discriminant**0.5) / (2*a)\n",
        "        root2 = (-b - discriminant**0.5) / (2*a)\n",
        "        return root1, root2\n",
        "    elif discriminant == 0:\n",
        "        root = -b / (2*a)\n",
        "        return root,\n",
        "    else:\n",
        "        return \"No real roots\"\n",
        "\n",
        "# Koeficienty\n",
        "a = 1\n",
        "b = -5\n",
        "c = 6\n",
        "\n",
        "solution_p = solve_quadratic(a, b, c)\n",
        "\n",
        "print(\"Řešení rovnice:\", solution_p)\n",
        "\n",
        "\n",
        "start_p = time.time()\n",
        "solution_p = solve_quadratic(a, b, c)\n",
        "end_p = time.time()\n",
        "print(\"Čas potřebný k vyřešení rovnice:\", end_p - start_p)"
      ],
      "metadata": {
        "colab": {
          "base_uri": "https://localhost:8080/"
        },
        "id": "9OwXx0xiyryi",
        "outputId": "dd66c005-647f-49f2-b5a6-59637d1bbc08"
      },
      "execution_count": 2,
      "outputs": [
        {
          "output_type": "stream",
          "name": "stdout",
          "text": [
            "Řešení rovnice: [(2,), (3,)]\n",
            "Čas potřebný k vyřešení rovnice s SymPy: 0.7723407745361328\n",
            "Řešení rovnice: (3.0, 2.0)\n",
            "Čas potřebný k vyřešení rovnice: 0.00011920928955078125\n"
          ]
        }
      ]
    },
    {
      "cell_type": "markdown",
      "source": [
        "**3. skalarni soucin vektoru přes NumPy**"
      ],
      "metadata": {
        "id": "Z1oedfGsy6FC"
      }
    },
    {
      "cell_type": "code",
      "source": [
        "# 3. skalarni soucin vektoru\n",
        "import numpy as np\n",
        "import time\n",
        "\n",
        "vector1 = np.array([1, 2, 3])\n",
        "vector2 = np.array([4, 5, 6])\n",
        "\n",
        "start = time.time()\n",
        "solution = np.dot(vector1, vector2)\n",
        "print(\"Skalární součin vektorů:\", solution)\n",
        "end = time.time()\n",
        "print(\"Čas potřebný k vyřešení Skalární součin vektorů:\", end - start)\n",
        "\n",
        "\n",
        "def scalar_product(vector1, vector2):\n",
        "    if len(vector1) != len(vector2):\n",
        "        raise ValueError(\"Vectors must have the same length\")\n",
        "\n",
        "    result = 0\n",
        "    for i in range(len(vector1)):\n",
        "        result += vector1[i] * vector2[i]\n",
        "\n",
        "    return result\n",
        "\n",
        "\n",
        "# Výpočet skalárního součinu\n",
        "scalar_product_result = scalar_product(vector1, vector2)\n",
        "\n",
        "print(\"Skalární součin vektorů:\", scalar_product_result)\n",
        "\n",
        "start_p = time.time()\n",
        "solution_p = scalar_product(vector1, vector2)\n",
        "end_p = time.time()\n",
        "print(\"Čas potřebný k vyřešení rovnice:\", end_p - start_p)"
      ],
      "metadata": {
        "colab": {
          "base_uri": "https://localhost:8080/"
        },
        "id": "PKg35ybJzB1a",
        "outputId": "567389f0-54e6-4204-f177-8d4940f13f70"
      },
      "execution_count": 3,
      "outputs": [
        {
          "output_type": "stream",
          "name": "stdout",
          "text": [
            "Skalární součin vektorů: 32\n",
            "Čas potřebný k vyřešení Skalární součin vektorů: 0.007338523864746094\n",
            "Skalární součin vektorů: 32\n",
            "Čas potřebný k vyřešení rovnice: 9.465217590332031e-05\n"
          ]
        }
      ]
    },
    {
      "cell_type": "markdown",
      "source": [
        "**4. numerické integrace funkce přes SciPy**"
      ],
      "metadata": {
        "id": "M1DN72lEzEyb"
      }
    },
    {
      "cell_type": "code",
      "source": [
        "# 4. numerické integrace funkce\n",
        "from scipy.integrate import quad\n",
        "import time\n",
        "\n",
        "start = time.time()\n",
        "# Definice funkce, kterou chceme integrovat\n",
        "def func(x):\n",
        "    return x**2\n",
        "\n",
        "lower_limit = 0\n",
        "upper_limit = 1\n",
        "\n",
        "# Volání funkce quad pro výpočet integrálu\n",
        "integral, error = quad(func, lower_limit, upper_limit)\n",
        "\n",
        "print(\"Výsledek integrace:\", integral)\n",
        "print(\"Chyba odhadu:\", error)\n",
        "end = time.time()\n",
        "print(\"Čas potřebný k vyřešení numerické integrace funkce pres scipy:\", end - start)\n",
        "\n",
        "# python version\n",
        "start_p = time.time()\n",
        "def func_p(x):\n",
        "    return x**2\n",
        "\n",
        "a = 0\n",
        "b = 1\n",
        "n = 1000\n",
        "\n",
        "# Šířka jednoho podintervalu\n",
        "dx = (b - a) / n\n",
        "# Inicializace proměnné pro výsledek integrace\n",
        "integral = 0\n",
        "# Numerická integrace metodou lichých čísel\n",
        "for i in range(n):\n",
        "    x_left = a + i * dx\n",
        "    x_right = a + (i + 1) * dx\n",
        "    integral += (func(x_left) + func(x_right)) * dx / 2\n",
        "\n",
        "print(\"Výsledek integrace:\", integral)\n",
        "\n",
        "end_p = time.time()\n",
        "print(\"Čas potřebný k vyřešení numerické integrace funkce:\", end_p - start_p)"
      ],
      "metadata": {
        "colab": {
          "base_uri": "https://localhost:8080/"
        },
        "id": "ORvUZEpMzH8C",
        "outputId": "4c6158c6-56be-419a-e7db-1398a5fbc781"
      },
      "execution_count": 4,
      "outputs": [
        {
          "output_type": "stream",
          "name": "stdout",
          "text": [
            "Výsledek integrace: 0.33333333333333337\n",
            "Chyba odhadu: 3.700743415417189e-15\n",
            "Čas potřebný k vyřešení numerické integrace funkce pres scipy: 0.0037584304809570312\n",
            "Výsledek integrace: 0.33333349999999984\n",
            "Čas potřebný k vyřešení numerické integrace funkce: 0.0033485889434814453\n"
          ]
        }
      ]
    },
    {
      "cell_type": "markdown",
      "source": [
        "**5. výpočet Fibonacciho posloupnosti přes Numba**"
      ],
      "metadata": {
        "id": "MV_EnWEUzLoQ"
      }
    },
    {
      "cell_type": "code",
      "source": [
        "# 5. výpočet Fibonacciho posloupnosti\n",
        "import numba as nb\n",
        "import time\n",
        "\n",
        "start = time.time()\n",
        "@nb.jit(nopython=True)\n",
        "def fibonacci(n):\n",
        "    if n <= 1:\n",
        "        return n\n",
        "    else:\n",
        "        return fibonacci(n-1) + fibonacci(n-2)\n",
        "\n",
        "n = 30  # Počet členů Fibonacciho posloupnosti\n",
        "\n",
        "result = fibonacci(n)\n",
        "print(\"Fibonacciho posloupnost pro\", n, \"členů:\", result)\n",
        "end = time.time()\n",
        "print(\"Čas potřebný k vyřešení:\", end - start)\n",
        "\n",
        "# vepocet pres proste python\n",
        "start_p = time.time()\n",
        "def fibonacci_p(n):\n",
        "    if n <= 1:\n",
        "        return n\n",
        "    else:\n",
        "        a, b = 0, 1\n",
        "        for _ in range(2, n + 1):\n",
        "            a, b = b, a + b\n",
        "        return b\n",
        "\n",
        "result = fibonacci_p(n)\n",
        "print(\"Fibonacciho posloupnost pro\", n, \"členů:\", result)\n",
        "end_p = time.time()\n",
        "print(\"Čas potřebný k vyřešení:\", end_p - start_p)\n"
      ],
      "metadata": {
        "colab": {
          "base_uri": "https://localhost:8080/"
        },
        "id": "kJfW9_mHzQ_E",
        "outputId": "700fa39d-c96b-44d1-e2b6-c97fb7d8f0e6"
      },
      "execution_count": 5,
      "outputs": [
        {
          "output_type": "stream",
          "name": "stdout",
          "text": [
            "Fibonacciho posloupnost pro 30 členů: 832040\n",
            "Čas potřebný k vyřešení: 1.079843521118164\n",
            "Fibonacciho posloupnost pro 30 členů: 832040\n",
            "Čas potřebný k vyřešení: 0.0005619525909423828\n"
          ]
        }
      ]
    }
  ]
}