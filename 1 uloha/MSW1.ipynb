{
  "nbformat": 4,
  "nbformat_minor": 0,
  "metadata": {
    "colab": {
      "provenance": [],
      "authorship_tag": "ABX9TyO5MchUAGhiHqULrAz269R0",
      "include_colab_link": true
    },
    "kernelspec": {
      "name": "python3",
      "display_name": "Python 3"
    },
    "language_info": {
      "name": "python"
    }
  },
  "cells": [
    {
      "cell_type": "markdown",
      "metadata": {
        "id": "view-in-github",
        "colab_type": "text"
      },
      "source": [
        "<a href=\"https://colab.research.google.com/github/AAskarkyzy/MSW/blob/main/1%20uloha/MSW1.ipynb\" target=\"_parent\"><img src=\"https://colab.research.google.com/assets/colab-badge.svg\" alt=\"Open In Colab\"/></a>"
      ]
    },
    {
      "cell_type": "markdown",
      "source": [
        "# 1. Prvni uloha na nasobeni matrice přes NumPy"
      ],
      "metadata": {
        "id": "q6_mwX2e1Z4Z"
      }
    },
    {
      "cell_type": "code",
      "execution_count": null,
      "metadata": {
        "colab": {
          "base_uri": "https://localhost:8080/"
        },
        "id": "nxuoufVa0Y6U",
        "outputId": "624e98f6-2f07-4bd5-fc03-84696b13cecc"
      },
      "outputs": [
        {
          "output_type": "stream",
          "name": "stdout",
          "text": [
            "Matrix A:\n",
            "[[0.03186961 0.06671567 0.25485947 0.73627711 0.12995636 0.18228611\n",
            "  0.83957332 0.79991429 0.95742493 0.93229496]\n",
            " [0.67859903 0.62441945 0.67675628 0.25991718 0.66014408 0.94206785\n",
            "  0.18868107 0.35498439 0.20054344 0.49010743]\n",
            " [0.83677934 0.45974768 0.26329498 0.66312872 0.96073288 0.24291638\n",
            "  0.87824844 0.42536728 0.4744437  0.35030425]\n",
            " [0.05355663 0.3880497  0.32040852 0.15188188 0.69697059 0.1597486\n",
            "  0.3687205  0.91994047 0.20224342 0.79973006]\n",
            " [0.13118809 0.5970419  0.99631588 0.01127736 0.4202257  0.22327704\n",
            "  0.85332575 0.81744509 0.67742238 0.26777659]\n",
            " [0.72516523 0.72096387 0.1902852  0.65098275 0.15873466 0.52339744\n",
            "  0.55019245 0.81189522 0.43923881 0.47198642]\n",
            " [0.40826779 0.62626854 0.99673161 0.01871919 0.52442677 0.9276071\n",
            "  0.75114127 0.33258472 0.97823671 0.85663954]\n",
            " [0.02345376 0.18967376 0.79621253 0.53457284 0.39756328 0.42817213\n",
            "  0.42411687 0.59765391 0.64593338 0.98085503]\n",
            " [0.24940299 0.98310232 0.79019249 0.62426243 0.68712043 0.49972133\n",
            "  0.38396112 0.79214584 0.51638877 0.58412507]\n",
            " [0.08778851 0.76833174 0.37320529 0.77998938 0.45951108 0.37336914\n",
            "  0.75596951 0.49193156 0.41696831 0.00264712]]\n",
            "\n",
            "Matrix B:\n",
            "[[0.16290339 0.25044498 0.27080629 0.82539286 0.72265193 0.1866244\n",
            "  0.46381918 0.68360661 0.22519287 0.24863773]\n",
            " [0.69365192 0.32738656 0.96238153 0.02081814 0.57264714 0.32372665\n",
            "  0.09112197 0.76533948 0.68049275 0.86210567]\n",
            " [0.1813229  0.90440858 0.83100378 0.99767276 0.28103886 0.89112481\n",
            "  0.08772907 0.73316832 0.04639995 0.50254569]\n",
            " [0.92621774 0.46120707 0.56059246 0.25590169 0.01598693 0.20826639\n",
            "  0.77692809 0.52994308 0.16268117 0.19445294]\n",
            " [0.68295307 0.84637711 0.43344473 0.3210523  0.53928073 0.73062859\n",
            "  0.07764424 0.12115813 0.11903562 0.79560264]\n",
            " [0.50168005 0.33365617 0.59772204 0.93811932 0.87035682 0.50834502\n",
            "  0.50590043 0.7741117  0.09466688 0.29292752]\n",
            " [0.21273237 0.80535263 0.94433515 0.58707253 0.91514535 0.29811967\n",
            "  0.45782031 0.54803017 0.88273438 0.26387893]\n",
            " [0.63351336 0.29689698 0.44467131 0.99331338 0.57413953 0.27404336\n",
            "  0.94508499 0.96428505 0.25900464 0.52718567]\n",
            " [0.85632383 0.33215184 0.74433285 0.05234666 0.5783754  0.52245403\n",
            "  0.92308621 0.8101239  0.62429121 0.99987092]\n",
            " [0.84172895 0.56200056 0.11364818 0.39299319 0.47904145 0.50276426\n",
            "  0.66695954 0.62412816 0.0258203  0.57127142]]\n",
            "Time taken for pure Python matrix multiplication: 0.0008838176727294922\n",
            "Time taken for NumPy matrix multiplication: 0.0021033287048339844\n"
          ]
        }
      ],
      "source": [
        "# 1. Prvni uloha na nasobeni matrice\n",
        "import numpy as np\n",
        "import time\n",
        "\n",
        "# Proste Python matrix multiplication\n",
        "def python_matrix(a, b):\n",
        "    result = [[0 for _ in range(len(b[0]))] for _ in range(len(a))]\n",
        "    for i in range(len(a)):\n",
        "        for j in range(len(b[0])):\n",
        "            for k in range(len(b)):\n",
        "                result[i][j] += a[i][k] * b[k][j]\n",
        "    return result\n",
        "\n",
        "# NumPy matrix multiplication\n",
        "def numpy_matrix(a, b):\n",
        "    return np.dot(a, b)\n",
        "\n",
        "# matrice\n",
        "size = 10\n",
        "a = np.random.rand(size, size)\n",
        "b = np.random.rand(size, size)\n",
        "\n",
        "print(\"Matrix A:\")\n",
        "print(a)\n",
        "print(\"\\nMatrix B:\")\n",
        "print(b)\n",
        "\n",
        "# cas proste Python matrix multiplication\n",
        "start = time.time()\n",
        "pure_python_result = python_matrix(a, b)\n",
        "end = time.time()\n",
        "print(\"Time taken for pure Python matrix multiplication:\", end - start)\n",
        "\n",
        "# cas NumPy matrix multiplication\n",
        "start = time.time()\n",
        "numpy_result = numpy_matrix(a, b)\n",
        "end = time.time()\n",
        "print(\"Time taken for NumPy matrix multiplication:\", end - start)\n"
      ]
    },
    {
      "cell_type": "markdown",
      "source": [
        "# 2. reseni kvadratickou rovnici pomoci SymPy"
      ],
      "metadata": {
        "id": "lVKaC2VW1Xwm"
      }
    },
    {
      "cell_type": "code",
      "source": [
        "# 2. reseni kvadratickou rovnici pomoci SymPy\n",
        "import sympy as sp\n",
        "import time\n",
        "\n",
        "# Definice symbolických proměnných\n",
        "x = sp.Symbol('x')\n",
        "\n",
        "start = time.time()\n",
        "solution = sp.solve([x**2 - 5*x + 6], x)\n",
        "end = time.time()\n",
        "print(\"Řešení rovnice:\", solution)\n",
        "print(\"Čas potřebný k vyřešení rovnice s SymPy:\", end - start)\n",
        "\n",
        "\n",
        "# proste python\n",
        "def solve_quadratic(a, b, c):\n",
        "    discriminant = b**2 - 4*a*c\n",
        "\n",
        "    if discriminant > 0:\n",
        "        root1 = (-b + discriminant**0.5) / (2*a)\n",
        "        root2 = (-b - discriminant**0.5) / (2*a)\n",
        "        return root1, root2\n",
        "    elif discriminant == 0:\n",
        "        root = -b / (2*a)\n",
        "        return root,\n",
        "    else:\n",
        "        return \"No real roots\"\n",
        "\n",
        "# Koeficienty\n",
        "a = 1\n",
        "b = -5\n",
        "c = 6\n",
        "\n",
        "solution_p = solve_quadratic(a, b, c)\n",
        "\n",
        "print(\"Řešení rovnice:\", solution_p)\n",
        "\n",
        "\n",
        "start_p = time.time()\n",
        "solution_p = solve_quadratic(a, b, c)\n",
        "end_p = time.time()\n",
        "print(\"Čas potřebný k vyřešení rovnice:\", end_p - start_p)"
      ],
      "metadata": {
        "colab": {
          "base_uri": "https://localhost:8080/"
        },
        "id": "-98a77Ir9H-K",
        "outputId": "53005382-ccaf-4a1e-e730-6b6f1b59751b"
      },
      "execution_count": null,
      "outputs": [
        {
          "output_type": "stream",
          "name": "stdout",
          "text": [
            "Řešení rovnice: [(2,), (3,)]\n",
            "Čas potřebný k vyřešení rovnice s SymPy: 0.019356966018676758\n",
            "Řešení rovnice: (3.0, 2.0)\n",
            "Čas potřebný k vyřešení rovnice: 0.00011420249938964844\n"
          ]
        }
      ]
    },
    {
      "cell_type": "markdown",
      "source": [
        "# 3. skalarni soucin vektoru přes NumPy"
      ],
      "metadata": {
        "id": "qIWZsdX2z0tK"
      }
    },
    {
      "cell_type": "code",
      "source": [
        "# 3. skalarni soucin vektoru\n",
        "import numpy as np\n",
        "import time\n",
        "\n",
        "vector1 = np.array([1, 2, 3])\n",
        "vector2 = np.array([4, 5, 6])\n",
        "\n",
        "start = time.time()\n",
        "solution = np.dot(vector1, vector2)\n",
        "print(\"Skalární součin vektorů:\", solution)\n",
        "end = time.time()\n",
        "print(\"Čas potřebný k vyřešení Skalární součin vektorů:\", end - start)\n",
        "\n",
        "\n",
        "def scalar_product(vector1, vector2):\n",
        "    if len(vector1) != len(vector2):\n",
        "        raise ValueError(\"Vectors must have the same length\")\n",
        "\n",
        "    result = 0\n",
        "    for i in range(len(vector1)):\n",
        "        result += vector1[i] * vector2[i]\n",
        "\n",
        "    return result\n",
        "\n",
        "\n",
        "# Výpočet skalárního součinu\n",
        "scalar_product_result = scalar_product(vector1, vector2)\n",
        "\n",
        "print(\"Skalární součin vektorů:\", scalar_product_result)\n",
        "\n",
        "start_p = time.time()\n",
        "solution_p = scalar_product(vector1, vector2)\n",
        "end_p = time.time()\n",
        "print(\"Čas potřebný k vyřešení rovnice:\", end_p - start_p)\n"
      ],
      "metadata": {
        "colab": {
          "base_uri": "https://localhost:8080/"
        },
        "id": "-6IVIzBDEJb5",
        "outputId": "aa3a8158-0bed-4048-f0f5-31192f1a7501"
      },
      "execution_count": null,
      "outputs": [
        {
          "output_type": "stream",
          "name": "stdout",
          "text": [
            "Skalární součin vektorů: 32\n",
            "Čas potřebný k vyřešení Skalární součin vektorů: 0.002039194107055664\n",
            "Skalární součin vektorů: 32\n",
            "Čas potřebný k vyřešení rovnice: 0.00015020370483398438\n"
          ]
        }
      ]
    },
    {
      "cell_type": "markdown",
      "source": [
        "# 4. numerické integrace funkce přes SciPy"
      ],
      "metadata": {
        "id": "r_VFVA0HzldU"
      }
    },
    {
      "cell_type": "code",
      "source": [
        "# 4. numerické integrace funkce\n",
        "from scipy.integrate import quad\n",
        "import time\n",
        "\n",
        "start = time.time()\n",
        "# Definice funkce, kterou chceme integrovat\n",
        "def func(x):\n",
        "    return x**2\n",
        "\n",
        "lower_limit = 0\n",
        "upper_limit = 1\n",
        "\n",
        "# Volání funkce quad pro výpočet integrálu\n",
        "integral, error = quad(func, lower_limit, upper_limit)\n",
        "\n",
        "print(\"Výsledek integrace:\", integral)\n",
        "print(\"Chyba odhadu:\", error)\n",
        "end = time.time()\n",
        "print(\"Čas potřebný k vyřešení numerické integrace funkce pres scipy:\", end - start)\n",
        "\n",
        "# python version\n",
        "start_p = time.time()\n",
        "def func_p(x):\n",
        "    return x**2\n",
        "\n",
        "a = 0\n",
        "b = 1\n",
        "n = 1000\n",
        "\n",
        "# Šířka jednoho podintervalu\n",
        "dx = (b - a) / n\n",
        "# Inicializace proměnné pro výsledek integrace\n",
        "integral = 0\n",
        "# Numerická integrace metodou lichých čísel\n",
        "for i in range(n):\n",
        "    x_left = a + i * dx\n",
        "    x_right = a + (i + 1) * dx\n",
        "    integral += (func(x_left) + func(x_right)) * dx / 2\n",
        "\n",
        "print(\"Výsledek integrace:\", integral)\n",
        "\n",
        "end_p = time.time()\n",
        "print(\"Čas potřebný k vyřešení numerické integrace funkce:\", end_p - start_p)"
      ],
      "metadata": {
        "colab": {
          "base_uri": "https://localhost:8080/"
        },
        "id": "pmtxRTUilejR",
        "outputId": "d1777ba6-b146-4d39-9846-9faab3c81161"
      },
      "execution_count": null,
      "outputs": [
        {
          "output_type": "stream",
          "name": "stdout",
          "text": [
            "Výsledek integrace: 0.33333333333333337\n",
            "Chyba odhadu: 3.700743415417189e-15\n",
            "Čas potřebný k vyřešení numerické integrace funkce pres scipy: 0.009234428405761719\n",
            "Výsledek integrace: 0.33333349999999984\n",
            "Čas potřebný k vyřešení numerické integrace funkce: 0.002756357192993164\n"
          ]
        }
      ]
    },
    {
      "cell_type": "markdown",
      "source": [
        "# 5. výpočet Fibonacciho posloupnosti přes Numba"
      ],
      "metadata": {
        "id": "WCvfaaBIzgRS"
      }
    },
    {
      "cell_type": "code",
      "source": [
        "# 5. výpočet Fibonacciho posloupnosti\n",
        "import numba as nb\n",
        "import time\n",
        "\n",
        "start = time.time()\n",
        "@nb.jit(nopython=True)\n",
        "def fibonacci(n):\n",
        "    if n <= 1:\n",
        "        return n\n",
        "    else:\n",
        "        return fibonacci(n-1) + fibonacci(n-2)\n",
        "\n",
        "n = 30  # Počet členů Fibonacciho posloupnosti\n",
        "\n",
        "result = fibonacci(n)\n",
        "print(\"Fibonacciho posloupnost pro\", n, \"členů:\", result)\n",
        "end = time.time()\n",
        "print(\"Čas potřebný k vyřešení:\", end - start)\n",
        "\n",
        "# vepocet pres proste python\n",
        "start_p = time.time()\n",
        "def fibonacci_p(n):\n",
        "    if n <= 1:\n",
        "        return n\n",
        "    else:\n",
        "        a, b = 0, 1\n",
        "        for _ in range(2, n + 1):\n",
        "            a, b = b, a + b\n",
        "        return b\n",
        "\n",
        "result = fibonacci_p(n)\n",
        "print(\"Fibonacciho posloupnost pro\", n, \"členů:\", result)\n",
        "end_p = time.time()\n",
        "print(\"Čas potřebný k vyřešení:\", end_p - start_p)\n"
      ],
      "metadata": {
        "colab": {
          "base_uri": "https://localhost:8080/"
        },
        "id": "3fpaDhxLsiEw",
        "outputId": "5cc29eae-d0ab-4b47-b274-04fb9740693a"
      },
      "execution_count": null,
      "outputs": [
        {
          "output_type": "stream",
          "name": "stdout",
          "text": [
            "Fibonacciho posloupnost pro 30 členů: 832040\n",
            "Čas potřebný k vyřešení: 0.18263936042785645\n",
            "Число Фибоначчи для 30 членов: 832040\n",
            "Čas potřebný k vyřešení: 0.0024194717407226562\n"
          ]
        }
      ]
    }
  ]
}