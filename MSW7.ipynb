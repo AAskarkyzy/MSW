{
  "nbformat": 4,
  "nbformat_minor": 0,
  "metadata": {
    "colab": {
      "provenance": [],
      "authorship_tag": "ABX9TyN+D4Bamoe84aLFzuiW1MyS",
      "include_colab_link": true
    },
    "kernelspec": {
      "name": "python3",
      "display_name": "Python 3"
    },
    "language_info": {
      "name": "python"
    }
  },
  "cells": [
    {
      "cell_type": "markdown",
      "metadata": {
        "id": "view-in-github",
        "colab_type": "text"
      },
      "source": [
        "<a href=\"https://colab.research.google.com/github/AAskarkyzy/MSW/blob/main/MSW7.ipynb\" target=\"_parent\"><img src=\"https://colab.research.google.com/assets/colab-badge.svg\" alt=\"Open In Colab\"/></a>"
      ]
    },
    {
      "cell_type": "markdown",
      "source": [
        "# 7. Metoda Monte Carlo"
      ],
      "metadata": {
        "id": "qv0IVArQhi2G"
      }
    },
    {
      "cell_type": "code",
      "execution_count": 1,
      "metadata": {
        "colab": {
          "base_uri": "https://localhost:8080/"
        },
        "id": "tPwOftPjhhDX",
        "outputId": "1562059e-a00a-40d5-ea21-2f34f16e2f4a"
      },
      "outputs": [
        {
          "output_type": "stream",
          "name": "stdout",
          "text": [
            "Результаты симуляции:\n",
            "Число 1: 16.66%\n",
            "Число 2: 16.68%\n",
            "Число 3: 16.62%\n",
            "Число 4: 16.63%\n",
            "Число 5: 16.74%\n",
            "Число 6: 16.66%\n"
          ]
        }
      ],
      "source": [
        "import random\n",
        "\n",
        "def roll_dice():\n",
        "    # generuje nahodne cislo od 1 do 6\n",
        "    return random.randint(1, 6)\n",
        "\n",
        "def monte_carlo_dice_simulation(num_simulations):\n",
        "    # slovnik pro pocitani cetnosti vyskytu jednotlivych hodnot na kostce\n",
        "    results = {i: 0 for i in range(1, 7)}\n",
        "\n",
        "    # modeluje vrh kostkou num_simulations krat\n",
        "    for _ in range(num_simulations):\n",
        "        result = roll_dice()\n",
        "        results[result] += 1\n",
        "\n",
        "    # vypocita cetnost vyskytu jednotlivych hodnot na kostce\n",
        "    frequencies = {key: value / num_simulations for key, value in results.items()}\n",
        "\n",
        "    return frequencies\n",
        "\n",
        "# pocet simulaci\n",
        "num_simulations = 1000000\n",
        "\n",
        "# spousti simulaci metody monte carlo\n",
        "frequencies = monte_carlo_dice_simulation(num_simulations)\n",
        "\n",
        "# vypisuje vysledky\n",
        "print(\"Результаты симуляции:\")\n",
        "for value, frequency in frequencies.items():\n",
        "    print(f\"Число {value}: {frequency:.2%}\")\n"
      ]
    }
  ]
}